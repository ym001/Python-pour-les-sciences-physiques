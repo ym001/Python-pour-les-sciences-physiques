{
 "cells": [
  {
   "cell_type": "markdown",
   "metadata": {},
   "source": [
    "### Importation des bibliothèques "
   ]
  },
  {
   "cell_type": "code",
   "execution_count": 9,
   "metadata": {},
   "outputs": [
    {
     "name": "stdout",
     "output_type": "stream",
     "text": [
      "Using matplotlib backend: Qt5Agg\n"
     ]
    }
   ],
   "source": [
    "%matplotlib \n",
    "import numpy as np \n",
    "import matplotlib.pyplot as plt"
   ]
  },
  {
   "cell_type": "code",
   "execution_count": 10,
   "metadata": {},
   "outputs": [
    {
     "data": {
      "text/plain": [
       "[<matplotlib.lines.Line2D at 0x1871cb1e908>]"
      ]
     },
     "execution_count": 10,
     "metadata": {},
     "output_type": "execute_result"
    }
   ],
   "source": [
    "#Valeurs expérimentales\n",
    "x=np.array([0,0,0,0])\n",
    "y=np.array([1.698,1.691,1.674,1.643])\n",
    "\n",
    "#Représentation d'un nuage de points\n",
    "plt.plot(x,y,'o',markersize=4)"
   ]
  },
  {
   "cell_type": "code",
   "execution_count": 11,
   "metadata": {},
   "outputs": [],
   "source": [
    "#Paramètres de la chronophotographie\n",
    "N=4\n",
    "Dt=0.035 \n",
    "#Calcul de la valeur de la vitesse en chaque point\n",
    "for k in range(0, N-1) :\n",
    "    vy=(y[k+1]- y[k])/Dt\n",
    "    echelle=0.02 #coefficient pour ajuster la longueur des vecteurs\n",
    "    vy=vy*echelle\n",
    "#Tracé des vecteurs vitesse\n",
    "    plt.quiver(x[k],y[k],0,vy,color=\"red\",scale=1,scale_units='xy')\n",
    "#Configuration du graphique\n",
    "plt.xlabel(\"x (en m)\")\n",
    "plt.ylabel(\"y (en m)\")\n",
    "plt.title(\"Chronophotographie\")\n",
    "\n",
    "#Affichage\n",
    "plt.show()"
   ]
  },
  {
   "cell_type": "code",
   "execution_count": null,
   "metadata": {},
   "outputs": [],
   "source": []
  }
 ],
 "metadata": {
  "kernelspec": {
   "display_name": "Python 3",
   "language": "python",
   "name": "python3"
  },
  "language_info": {
   "codemirror_mode": {
    "name": "ipython",
    "version": 3
   },
   "file_extension": ".py",
   "mimetype": "text/x-python",
   "name": "python",
   "nbconvert_exporter": "python",
   "pygments_lexer": "ipython3",
   "version": "3.7.0"
  }
 },
 "nbformat": 4,
 "nbformat_minor": 2
}
