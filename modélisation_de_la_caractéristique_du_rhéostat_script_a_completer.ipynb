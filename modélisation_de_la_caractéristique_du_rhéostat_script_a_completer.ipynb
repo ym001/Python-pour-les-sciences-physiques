{
 "cells": [
  {
   "cell_type": "markdown",
   "metadata": {},
   "source": [
    "## Importation des bibliothèques"
   ]
  },
  {
   "cell_type": "code",
   "execution_count": 1,
   "metadata": {
    "collapsed": true
   },
   "outputs": [],
   "source": [
    "import numpy as np\n",
    "import matplotlib.pyplot as plt\n",
    "import scipy.stats as sc"
   ]
  },
  {
   "cell_type": "markdown",
   "metadata": {},
   "source": [
    "## Tracé et modélisation de la caractéristique du rhéostat\n",
    "1. Compléter les tableaux en nommant et en indiquant l'intensité I du courant et la tension U.\n",
    "2. Compléter la ligne permettant de calculer U_modèle.\n",
    "3. Compléter les lignes pour :a. indiquer les grandeurs et les unités sur les axes; b.donner un titre au graphique.\n"
   ]
  },
  {
   "cell_type": "code",
   "execution_count": null,
   "metadata": {
    "collapsed": true
   },
   "outputs": [],
   "source": [
    "...=np.array([...,...,...,...,...,...,...,...,...]) #I en mA\n",
    "...=np.array([...,...,...,...,...,...,...,...,...]) # U en V\n",
    "\n",
    "# Représentation d'un nuage de points\n",
    "plt.plot(I,U,'o',color='green')\n",
    "\n",
    "# Modélisation d'un graphique\n",
    "droite = sc.linregress(I,U) \n",
    "coefficient=droite.slope \n",
    "print(\"Coefficient directeur :\",coefficient) \n",
    "oorigine=droite.intercept   \n",
    "print(\"Ordonnée à l'origine :\",oorigine)\n",
    "\n",
    "# Tracé de la droite de régression\n",
    "U_modele = ... * I + ...\n",
    "plt.plot(I, U_modele, color='red')\n",
    "\n",
    "# Configuration du graphique\n",
    "plt.xlabel(\"...\")   \n",
    "plt.ylabel(\"...\")\n",
    "plt.title(\"...\")\n",
    "plt.grid()\n",
    "\n",
    "# Affichage\n",
    "plt.show()"
   ]
  }
 ],
 "metadata": {
  "kernelspec": {
   "display_name": "Python 3",
   "language": "python",
   "name": "python3"
  },
  "language_info": {
   "codemirror_mode": {
    "name": "ipython",
    "version": 3
   },
   "file_extension": ".py",
   "mimetype": "text/x-python",
   "name": "python",
   "nbconvert_exporter": "python",
   "pygments_lexer": "ipython3",
   "version": "3.6.9"
  }
 },
 "nbformat": 4,
 "nbformat_minor": 2
}
